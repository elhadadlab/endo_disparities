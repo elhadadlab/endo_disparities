{
 "cells": [
  {
   "cell_type": "code",
   "execution_count": 1,
   "metadata": {},
   "outputs": [],
   "source": [
    "import os\n",
    "import pandas as pd\n",
    "import pyodbc\n",
    "import time\n",
    "import numpy as np\n",
    "import scipy.stats as stats\n",
    "import itertools\n",
    "from sqlalchemy import create_engine\n",
    "from collections import Counter\n",
    "import matplotlib.pyplot as plt"
   ]
  },
  {
   "cell_type": "markdown",
   "metadata": {},
   "source": [
    "# Access Data"
   ]
  },
  {
   "cell_type": "code",
   "execution_count": 2,
   "metadata": {},
   "outputs": [],
   "source": [
    "%load_ext sql"
   ]
  },
  {
   "cell_type": "code",
   "execution_count": 3,
   "metadata": {},
   "outputs": [],
   "source": [
    "#ACCESS DATABASE"
   ]
  },
  {
   "cell_type": "code",
   "execution_count": 4,
   "metadata": {},
   "outputs": [],
   "source": []
  },
  {
   "cell_type": "code",
   "execution_count": 5,
   "metadata": {},
   "outputs": [],
   "source": [
    "# SQL query\n",
    "sql_query = (\"SELECT cohort_definition_id, p.person_id, p.year_of_birth, cohort_start_date, \" + \n",
    "       'cohort_end_date, c_race.concept_name as race, c_ethnicity.concept_name as ethnicity, ' + \n",
    "       'drug_exposure_start_date, drug_exposure_end_date, ' +\n",
    "       'drug_type_concept_id, c_drugtype.concept_name as drug_type, ' + \n",
    "       'drug_concept_id, c_drug.concept_name as drug_name ' + \n",
    "        'FROM results.endocohorts '+\n",
    "        'LEFT JOIN dbo.drug_exposure as de ON de.person_id = subject_id ' + \n",
    "        'LEFT JOIN dbo.person as p ON p.person_id = subject_id ' + \n",
    "        'LEFT JOIN dbo.concept as c_race ON c_race.concept_id = p.race_concept_id ' +\n",
    "        'LEFT JOIN dbo.concept as c_ethnicity ON c_ethnicity.concept_id = p.ethnicity_concept_id ' +\n",
    "        'LEFT JOIN dbo.concept as c_drugtype ON c_drugtype.concept_id = drug_type_concept_id ' +\n",
    "        'LEFT JOIN dbo.concept as c_drug ON c_drug.concept_id = drug_concept_id ' + \n",
    "        'WHERE cohort_definition_id = 3;')\n",
    "df = pd.read_sql(sql_query, engine)"
   ]
  },
  {
   "cell_type": "markdown",
   "metadata": {},
   "source": [
    "# Prevalence Functions"
   ]
  },
  {
   "cell_type": "code",
   "execution_count": 6,
   "metadata": {},
   "outputs": [],
   "source": [
    "# this function pulls all the codes for a given atc class 3 list\n",
    "def generate_code_list(drugtype):\n",
    "    sql_query = (\"SELECT ancestor_concept_id, descendant_concept_id, concept_name \" + \n",
    "               \"FROM dbo.concept_ancestor JOIN dbo.concept ON descendant_concept_id = concept_id \"+\n",
    "               \"WHERE ancestor_concept_id = (SELECT concept_id from dbo.concept WHERE concept_class_id = 'ATC 3rd' AND concept_name = '\"+drugtype+\"');\")\n",
    "    codes_list = pd.read_sql(sql_query, engine)\n",
    "    return list(codes_list['descendant_concept_id'])\n",
    "\n",
    "# this function calculates the relative prevalence of each drug type\n",
    "def relative_drug_prev(list_codes, df):\n",
    "    \"\"\"\n",
    "    1. This function subsets the dataframe to find only white and only Black patients who have been prescribed this drug\n",
    "    2. It returns the relative prevalence (compared to overall patient prevalence) of \n",
    "        black and white patients who have been prescribed drugs within this class\n",
    "    3. It looks at prevalence generally (overall), prior to diagnosis, and post-diagnosis \n",
    "        (where) the date of diagnosis is the cohort entry date\n",
    "        \n",
    "    https://stats.libretexts.org/Bookshelves/Introductory_Statistics/Book%3A_OpenIntro_Statistics_(Diez_et_al)./06%3A_Inference_for_Categorical_Data/6.02%3A_Difference_of_Two_Proportions\n",
    "    \"\"\"\n",
    "    \n",
    "    list_features = []\n",
    "    df_subset = df.loc[df['drug_concept_id'].isin(list_codes)]\n",
    "    df_subset_w = df_subset.loc[df['race'] == 'White']\n",
    "    df_subset_b = df_subset.loc[df['race'] == 'Black or African American']\n",
    "\n",
    "\n",
    "    # number of white/Black patients: \n",
    "    num_white_patients = len(df.loc[df['race'] == 'White']['person_id'].unique())\n",
    "    num_black_patients = len(df.loc[df['race'] == 'Black or African American']['person_id'].unique())\n",
    "    \n",
    "    list_features.append(num_white_patients)\n",
    "    list_features.append(num_black_patients)\n",
    "\n",
    "    # Overall relative prevalence\n",
    "    p1_white_overall = len(df_subset_w['person_id'].unique())/num_white_patients\n",
    "    p2_black_overall = len(df_subset_b['person_id'].unique())/num_black_patients\n",
    "    list_features.append(p1_white_overall)\n",
    "    list_features.append(p2_black_overall)\n",
    "   \n",
    "    \n",
    "    list_features.append(p1_white_overall-p2_black_overall)\n",
    "    list_features.append(np.sqrt(p2_black_overall * (1 - p2_black_overall) / num_black_patients + p1_white_overall * (1 - p1_white_overall) / num_white_patients))\n",
    "    \n",
    "    return list_features"
   ]
  },
  {
   "cell_type": "markdown",
   "metadata": {},
   "source": [
    "# TABLE 1: Descriptive Statistics "
   ]
  },
  {
   "cell_type": "markdown",
   "metadata": {},
   "source": [
    "### Descriptive Statistics Table: Endo Cohort "
   ]
  },
  {
   "cell_type": "code",
   "execution_count": 7,
   "metadata": {},
   "outputs": [],
   "source": [
    "# Get AGE\n",
    "df['age'] = ((pd.to_datetime(df['cohort_start_date'])-pd.to_datetime(df['year_of_birth'], format='%Y')).astype('<m8[Y]')).astype('int64')\n",
    "df['age'].value_counts().to_csv('age_counts.csv')\n",
    "people_df = df[['person_id', 'age', 'race', 'ethnicity']].drop_duplicates()\n",
    "age_dist = people_df['age'].value_counts()\n",
    "\n",
    "# AGE: 15-21; 22-28; 29-35; 35-42; 42-49\n",
    "age_15_21 = age_dist[(age_dist.index <= 21)].sum()\n",
    "age_22_28 = age_dist[(age_dist.index > 21) & (age_dist.index<=28)].sum()\n",
    "age_29_35 = age_dist[(age_dist.index > 28) & (age_dist.index<=35)].sum()\n",
    "age_35_42 = age_dist[(age_dist.index > 35) & (age_dist.index<=42)].sum()\n",
    "age_42_49 = age_dist[(age_dist.index > 42)].sum()\n",
    "\n",
    "table1_ages = pd.DataFrame(data = [age_15_21, age_22_28, age_29_35, age_35_42, age_42_49], index = ['15-21', '22-28', '29-35', '35-42', '42-49'], columns = ['Endo Cohort (Counts)'])\n",
    "table1_ages['Endo Cohort (%)'] = 100*table1_ages['Endo Cohort (Counts)']/sum(table1_ages['Endo Cohort (Counts)'])"
   ]
  },
  {
   "cell_type": "code",
   "execution_count": 8,
   "metadata": {},
   "outputs": [],
   "source": [
    "# Get RACE\n",
    "table1_race = pd.DataFrame(data=people_df['race'].value_counts().values, index = people_df['race'].value_counts().index, columns = ['Endo Cohort (Counts)'])\n",
    "table1_race['Endo Cohort (%)'] = table1_race['Endo Cohort (Counts)']/sum(table1_race['Endo Cohort (Counts)'])\n",
    "\n",
    "# Get ETHNICITY\n",
    "table1_ethnicity = pd.DataFrame(data=people_df['ethnicity'].value_counts().values, index = people_df['ethnicity'].value_counts().index, columns = ['Endo Cohort (Counts)'])\n",
    "table1_ethnicity['Endo Cohort (%)'] = table1_ethnicity['Endo Cohort (Counts)']/sum(table1_ethnicity['Endo Cohort (Counts)'])"
   ]
  },
  {
   "cell_type": "markdown",
   "metadata": {},
   "source": [
    "### Descriptive Statistics Table: Comparison Cohort "
   ]
  },
  {
   "cell_type": "code",
   "execution_count": 22,
   "metadata": {},
   "outputs": [
    {
     "data": {
      "text/html": [
       "<div>\n",
       "<style scoped>\n",
       "    .dataframe tbody tr th:only-of-type {\n",
       "        vertical-align: middle;\n",
       "    }\n",
       "\n",
       "    .dataframe tbody tr th {\n",
       "        vertical-align: top;\n",
       "    }\n",
       "\n",
       "    .dataframe thead th {\n",
       "        text-align: right;\n",
       "    }\n",
       "</style>\n",
       "<table border=\"1\" class=\"dataframe\">\n",
       "  <thead>\n",
       "    <tr style=\"text-align: right;\">\n",
       "      <th></th>\n",
       "      <th>Endo Cohort (Counts)</th>\n",
       "      <th>Endo Cohort (%)</th>\n",
       "      <th>Comparison Cohort (Counts)</th>\n",
       "      <th>Comparison Cohort (%)</th>\n",
       "    </tr>\n",
       "  </thead>\n",
       "  <tbody>\n",
       "    <tr>\n",
       "      <th>15-21</th>\n",
       "      <td>1616</td>\n",
       "      <td>9.870511</td>\n",
       "      <td>1233489</td>\n",
       "      <td>33.665975</td>\n",
       "    </tr>\n",
       "    <tr>\n",
       "      <th>22-28</th>\n",
       "      <td>3634</td>\n",
       "      <td>22.196433</td>\n",
       "      <td>755365</td>\n",
       "      <td>20.616397</td>\n",
       "    </tr>\n",
       "    <tr>\n",
       "      <th>29-35</th>\n",
       "      <td>5323</td>\n",
       "      <td>32.512827</td>\n",
       "      <td>671403</td>\n",
       "      <td>18.324798</td>\n",
       "    </tr>\n",
       "    <tr>\n",
       "      <th>35-42</th>\n",
       "      <td>3804</td>\n",
       "      <td>23.234791</td>\n",
       "      <td>499965</td>\n",
       "      <td>13.645690</td>\n",
       "    </tr>\n",
       "    <tr>\n",
       "      <th>42-49</th>\n",
       "      <td>1995</td>\n",
       "      <td>12.185439</td>\n",
       "      <td>503682</td>\n",
       "      <td>13.747140</td>\n",
       "    </tr>\n",
       "  </tbody>\n",
       "</table>\n",
       "</div>"
      ],
      "text/plain": [
       "       Endo Cohort (Counts)  Endo Cohort (%)  Comparison Cohort (Counts)  \\\n",
       "15-21                  1616         9.870511                     1233489   \n",
       "22-28                  3634        22.196433                      755365   \n",
       "29-35                  5323        32.512827                      671403   \n",
       "35-42                  3804        23.234791                      499965   \n",
       "42-49                  1995        12.185439                      503682   \n",
       "\n",
       "       Comparison Cohort (%)  \n",
       "15-21              33.665975  \n",
       "22-28              20.616397  \n",
       "29-35              18.324798  \n",
       "35-42              13.645690  \n",
       "42-49              13.747140  "
      ]
     },
     "execution_count": 22,
     "metadata": {},
     "output_type": "execute_result"
    }
   ],
   "source": [
    "# Get AGE\n",
    "age_dist_cc = pd.read_csv('apara_mdcd_age.csv', header = None).set_index(0)\n",
    "\n",
    "# AGE: 15-21; 22-28; 29-35; 35-42; 42-49\n",
    "age_15_21 = age_dist_cc[(age_dist_cc.index <= 21)][1].sum()\n",
    "age_22_28 = age_dist_cc[(age_dist_cc.index > 21) & (age_dist_cc.index<=28)][1].sum()\n",
    "age_29_35 = age_dist_cc[(age_dist_cc.index > 28) & (age_dist_cc.index<=35)][1].sum()\n",
    "age_35_42 = age_dist_cc[(age_dist_cc.index > 35) & (age_dist_cc.index<=42)][1].sum()\n",
    "age_42_49 = age_dist_cc[(age_dist_cc.index > 42)][1].sum()\n",
    "\n",
    "table1_ages['Comparison Cohort (Counts)'] = [age_15_21, age_22_28, age_29_35, age_35_42, age_42_49]\n",
    "table1_ages['Comparison Cohort (%)'] = 100*table1_ages['Comparison Cohort (Counts)']/sum(table1_ages['Comparison Cohort (Counts)'])\n",
    "table1_ages"
   ]
  },
  {
   "cell_type": "code",
   "execution_count": 10,
   "metadata": {},
   "outputs": [],
   "source": [
    "# Get RACE\n",
    "race_dist_cc = pd.read_csv('apara_mdcd_race.csv', header=None)\n",
    "race_dist_cc.columns = ['Race', 'Comparison Cohort (Counts)']\n",
    "race_dist_cc.set_index('Race', inplace=True)\n",
    "table1_race = table1_race.merge(race_dist_cc, how = 'inner', left_index=True, right_index=True)\n",
    "table1_race['Comparison Cohort (%)'] = table1_race['Comparison Cohort (Counts)']/sum(table1_race['Comparison Cohort (Counts)'])\n",
    "\n",
    "# Get Ethnicity\n",
    "ethnicity_dist_cc = pd.read_csv('apara_mdcd_ethnicity.csv', header=None)\n",
    "ethnicity_dist_cc.columns = ['Ethnicity', 'Comparison Cohort (Counts)']\n",
    "ethnicity_dist_cc.set_index('Ethnicity', inplace=True)\n",
    "table1_ethnicity = table1_ethnicity.merge(ethnicity_dist_cc, how = 'inner', left_index=True, right_index=True)\n",
    "table1_ethnicity['Comparison Cohort (%)'] = table1_ethnicity['Comparison Cohort (Counts)']/sum(table1_ethnicity['Comparison Cohort (Counts)'])"
   ]
  },
  {
   "cell_type": "code",
   "execution_count": 21,
   "metadata": {},
   "outputs": [
    {
     "data": {
      "text/html": [
       "<div>\n",
       "<style scoped>\n",
       "    .dataframe tbody tr th:only-of-type {\n",
       "        vertical-align: middle;\n",
       "    }\n",
       "\n",
       "    .dataframe tbody tr th {\n",
       "        vertical-align: top;\n",
       "    }\n",
       "\n",
       "    .dataframe thead th {\n",
       "        text-align: right;\n",
       "    }\n",
       "</style>\n",
       "<table border=\"1\" class=\"dataframe\">\n",
       "  <thead>\n",
       "    <tr style=\"text-align: right;\">\n",
       "      <th></th>\n",
       "      <th>Endo Cohort (Counts)</th>\n",
       "      <th>Endo Cohort (%)</th>\n",
       "      <th>Comparison Cohort (Counts)</th>\n",
       "      <th>Comparison Cohort (%)</th>\n",
       "    </tr>\n",
       "  </thead>\n",
       "  <tbody>\n",
       "    <tr>\n",
       "      <th>White</th>\n",
       "      <td>10805</td>\n",
       "      <td>0.659968</td>\n",
       "      <td>1829312</td>\n",
       "      <td>0.499279</td>\n",
       "    </tr>\n",
       "    <tr>\n",
       "      <th>Black or African American</th>\n",
       "      <td>3814</td>\n",
       "      <td>0.232959</td>\n",
       "      <td>1199859</td>\n",
       "      <td>0.327481</td>\n",
       "    </tr>\n",
       "    <tr>\n",
       "      <th>No matching concept</th>\n",
       "      <td>1753</td>\n",
       "      <td>0.107073</td>\n",
       "      <td>634733</td>\n",
       "      <td>0.173240</td>\n",
       "    </tr>\n",
       "  </tbody>\n",
       "</table>\n",
       "</div>"
      ],
      "text/plain": [
       "                           Endo Cohort (Counts)  Endo Cohort (%)  \\\n",
       "White                                     10805         0.659968   \n",
       "Black or African American                  3814         0.232959   \n",
       "No matching concept                        1753         0.107073   \n",
       "\n",
       "                           Comparison Cohort (Counts)  Comparison Cohort (%)  \n",
       "White                                         1829312               0.499279  \n",
       "Black or African American                     1199859               0.327481  \n",
       "No matching concept                            634733               0.173240  "
      ]
     },
     "execution_count": 21,
     "metadata": {},
     "output_type": "execute_result"
    }
   ],
   "source": [
    "table1_race"
   ]
  },
  {
   "cell_type": "code",
   "execution_count": 11,
   "metadata": {},
   "outputs": [
    {
     "data": {
      "text/html": [
       "<div>\n",
       "<style scoped>\n",
       "    .dataframe tbody tr th:only-of-type {\n",
       "        vertical-align: middle;\n",
       "    }\n",
       "\n",
       "    .dataframe tbody tr th {\n",
       "        vertical-align: top;\n",
       "    }\n",
       "\n",
       "    .dataframe thead th {\n",
       "        text-align: right;\n",
       "    }\n",
       "</style>\n",
       "<table border=\"1\" class=\"dataframe\">\n",
       "  <thead>\n",
       "    <tr style=\"text-align: right;\">\n",
       "      <th></th>\n",
       "      <th>Endo Cohort (Counts)</th>\n",
       "      <th>Endo Cohort (%)</th>\n",
       "      <th>Comparison Cohort (Counts)</th>\n",
       "      <th>Comparison Cohort (%)</th>\n",
       "    </tr>\n",
       "  </thead>\n",
       "  <tbody>\n",
       "    <tr>\n",
       "      <th>No matching concept</th>\n",
       "      <td>16108</td>\n",
       "      <td>0.983875</td>\n",
       "      <td>3525270</td>\n",
       "      <td>0.962162</td>\n",
       "    </tr>\n",
       "    <tr>\n",
       "      <th>Hispanic or Latino</th>\n",
       "      <td>264</td>\n",
       "      <td>0.016125</td>\n",
       "      <td>138634</td>\n",
       "      <td>0.037838</td>\n",
       "    </tr>\n",
       "  </tbody>\n",
       "</table>\n",
       "</div>"
      ],
      "text/plain": [
       "                     Endo Cohort (Counts)  Endo Cohort (%)  \\\n",
       "No matching concept                 16108         0.983875   \n",
       "Hispanic or Latino                    264         0.016125   \n",
       "\n",
       "                     Comparison Cohort (Counts)  Comparison Cohort (%)  \n",
       "No matching concept                     3525270               0.962162  \n",
       "Hispanic or Latino                       138634               0.037838  "
      ]
     },
     "execution_count": 11,
     "metadata": {},
     "output_type": "execute_result"
    }
   ],
   "source": [
    "table1_ethnicity"
   ]
  },
  {
   "cell_type": "markdown",
   "metadata": {},
   "source": [
    "# Finding all drug classes for further analysis\n",
    "significant-drugs-z-score.csv lists all ATC level 3 classes of drugs where there is a significant difference between the prescription prevalence for the endometriosis cohort and the comparison cohort. In this study, we limit ourselves to drug classes where the prescription prevalence is significantly higher in the endometriosis population."
   ]
  },
  {
   "cell_type": "code",
   "execution_count": 12,
   "metadata": {},
   "outputs": [
    {
     "name": "stdout",
     "output_type": "stream",
     "text": [
      "28\n"
     ]
    }
   ],
   "source": [
    "significant_drug_differences = pd.read_csv('significant-drugs-z-score.csv')\n",
    "significant_drugs = significant_drug_differences[significant_drug_differences['endo_mean_prev']>significant_drug_differences['comp_mean_prev']]\n",
    "list_drugs = list(significant_drugs['concept_name'])\n",
    "print(len(list_drugs))"
   ]
  },
  {
   "cell_type": "markdown",
   "metadata": {},
   "source": [
    "# Find the relative prevalences overall, pre-diagnosis, and post-diagnosis\n",
    "Use the function *relative_drug_prev* to find the relative prevalence of prescription for each drug class amongst Black and white patients. Then, we compare the mean difference between the prevalences using a 2-sided Z-test. This is repeated for 1. all prescriptions, 2. prescriptions prior to diagnosis, and 3. prescriptions post-diagnosis. "
   ]
  },
  {
   "cell_type": "code",
   "execution_count": 13,
   "metadata": {
    "scrolled": true
   },
   "outputs": [],
   "source": [
    "# OVERALL\n",
    "colnames = ['N_white', 'N_black', 'Prev_White_Overall', 'Prev_Black_Overall','Mean_Diff_Overall', 'SE_Overall']\n",
    "\n",
    "df_prev_atc_endo = pd.DataFrame(columns = colnames)\n",
    "\n",
    "for drugtype in list_drugs:\n",
    "    list_codes = generate_code_list(drugtype)\n",
    "    df_prev_atc_endo.loc[drugtype] = relative_drug_prev(list_codes, df)\n",
    "    \n",
    "df_prev_atc_endo['ZScore_Overall'] = df_prev_atc_endo['Mean_Diff_Overall']/df_prev_atc_endo['SE_Overall']\n",
    "df_prev_atc_endo['p_val_overall'] = stats.norm.sf(np.abs(df_prev_atc_endo['ZScore_Overall']))"
   ]
  },
  {
   "cell_type": "code",
   "execution_count": 14,
   "metadata": {},
   "outputs": [],
   "source": [
    "#PRE-DIAGNOSIS\n",
    "colnames = ['N_white', 'N_black', 'Prev_White_Prior', 'Prev_Black_Prior','Mean_Diff_Prior', 'SE_Prior']\n",
    "\n",
    "prev_prior = pd.DataFrame(columns = colnames)\n",
    "df_prior = df.loc[pd.to_datetime(df['drug_exposure_start_date']) < pd.to_datetime(df['cohort_start_date'])]\n",
    "\n",
    "for drugtype in list_drugs:\n",
    "    list_codes = generate_code_list(drugtype)\n",
    "    prev_prior.loc[drugtype] = relative_drug_prev(list_codes, df_prior)\n",
    "    \n",
    "prev_prior['ZScore_Prior'] = prev_prior['Mean_Diff_Prior']/prev_prior['SE_Prior']\n",
    "prev_prior['p_val_prior'] = stats.norm.sf(np.abs(prev_prior['ZScore_Prior']))"
   ]
  },
  {
   "cell_type": "code",
   "execution_count": 15,
   "metadata": {},
   "outputs": [],
   "source": [
    "#POST-DIAGNOSIS\n",
    "colnames = ['N_white', 'N_black', 'Prev_White_Post', 'Prev_Black_Post','Mean_Diff_Post', 'SE_Post']\n",
    "\n",
    "prev_post = pd.DataFrame(columns = colnames)\n",
    "df_post = df.loc[pd.to_datetime(df['drug_exposure_start_date']) > pd.to_datetime(df['cohort_start_date'])]\n",
    "\n",
    "for drugtype in list_drugs:\n",
    "    list_codes = generate_code_list(drugtype)\n",
    "    prev_post.loc[drugtype] = relative_drug_prev(list_codes, df_post)\n",
    "    \n",
    "prev_post['ZScore_Post'] = prev_post['Mean_Diff_Post']/prev_post['SE_Post']\n",
    "prev_post['p_val_post'] = stats.norm.sf(np.abs(prev_post['ZScore_Post']))"
   ]
  },
  {
   "cell_type": "markdown",
   "metadata": {},
   "source": [
    "# FIGURE 2: Difference in prevalence ± Standard error"
   ]
  },
  {
   "cell_type": "code",
   "execution_count": 16,
   "metadata": {},
   "outputs": [
    {
     "data": {
      "image/png": "[encoded data removed]",
      "text/plain": [
       "<Figure size 864x504 with 1 Axes>"
      ]
     },
     "metadata": {
      "needs_background": "light"
     },
     "output_type": "display_data"
    }
   ],
   "source": [
    "plt.figure(figsize=(12,7))\n",
    "plt.errorbar(df_prev_atc_endo.index, df_prev_atc_endo['Mean_Diff_Overall']*100, yerr=df_prev_atc_endo['SE_Overall']*100, ls='none',color='k', label = 'Overall')\n",
    "plt.errorbar(prev_prior.index, prev_prior['Mean_Diff_Prior']*100, yerr=prev_prior['SE_Prior']*100, ls='none',color='orange', label = 'Pre-Diagnosis')\n",
    "plt.errorbar(prev_post.index, prev_post['Mean_Diff_Post']*100, yerr=prev_post['SE_Post']*100, ls='none',color='b', label = 'Post-Diagnosis')\n",
    "plt.ylabel('Percent Difference')\n",
    "plt.axhline(0, color='r')\n",
    "plt.xticks(rotation=45, ha='right')\n",
    "plt.legend()\n",
    "plt.show()"
   ]
  },
  {
   "cell_type": "markdown",
   "metadata": {},
   "source": [
    "# TABLE 3: Comparing prevalence differences pre-diagnosis vs. post-diagnosis"
   ]
  },
  {
   "cell_type": "code",
   "execution_count": 23,
   "metadata": {},
   "outputs": [
    {
     "data": {
      "text/html": [
       "<div>\n",
       "<style scoped>\n",
       "    .dataframe tbody tr th:only-of-type {\n",
       "        vertical-align: middle;\n",
       "    }\n",
       "\n",
       "    .dataframe tbody tr th {\n",
       "        vertical-align: top;\n",
       "    }\n",
       "\n",
       "    .dataframe thead th {\n",
       "        text-align: right;\n",
       "    }\n",
       "</style>\n",
       "<table border=\"1\" class=\"dataframe\">\n",
       "  <thead>\n",
       "    <tr style=\"text-align: right;\">\n",
       "      <th></th>\n",
       "      <th>Pre-Diagnosis: Mean Prevalence Difference (%)</th>\n",
       "      <th>Pre-Diagnosis: Standard Error (%)</th>\n",
       "      <th>Pre-Diagnosis: p-value</th>\n",
       "      <th>Post-Diagnosis: Mean Prevalence Difference (%)</th>\n",
       "      <th>Post-Diagnosis: Standard Error (%)</th>\n",
       "      <th>Post-Diagnosis: p-value</th>\n",
       "    </tr>\n",
       "  </thead>\n",
       "  <tbody>\n",
       "    <tr>\n",
       "      <th>OTHER ANALGESICS AND ANTIPYRETICS</th>\n",
       "      <td>10.647111</td>\n",
       "      <td>0.898424</td>\n",
       "      <td>1.064687e-32</td>\n",
       "      <td>5.482770</td>\n",
       "      <td>0.926171</td>\n",
       "      <td>1.611432e-09</td>\n",
       "    </tr>\n",
       "    <tr>\n",
       "      <th>OPIOIDS</th>\n",
       "      <td>3.832236</td>\n",
       "      <td>0.641791</td>\n",
       "      <td>1.177847e-09</td>\n",
       "      <td>2.730506</td>\n",
       "      <td>0.668120</td>\n",
       "      <td>2.186331e-05</td>\n",
       "    </tr>\n",
       "    <tr>\n",
       "      <th>ANTIINFLAMMATORY AND ANTIRHEUMATIC PRODUCTS, NON-STEROIDS</th>\n",
       "      <td>2.219864</td>\n",
       "      <td>0.658594</td>\n",
       "      <td>3.750102e-04</td>\n",
       "      <td>0.907683</td>\n",
       "      <td>0.760286</td>\n",
       "      <td>1.162644e-01</td>\n",
       "    </tr>\n",
       "    <tr>\n",
       "      <th>COUGH SUPPRESSANTS, EXCL. COMBINATIONS WITH EXPECTORANTS</th>\n",
       "      <td>8.589266</td>\n",
       "      <td>0.649894</td>\n",
       "      <td>3.527165e-40</td>\n",
       "      <td>4.577783</td>\n",
       "      <td>0.604771</td>\n",
       "      <td>1.874006e-14</td>\n",
       "    </tr>\n",
       "    <tr>\n",
       "      <th>ANTIEMETICS AND ANTINAUSEANTS</th>\n",
       "      <td>9.366546</td>\n",
       "      <td>0.889384</td>\n",
       "      <td>3.092240e-26</td>\n",
       "      <td>6.543276</td>\n",
       "      <td>0.876276</td>\n",
       "      <td>4.097909e-14</td>\n",
       "    </tr>\n",
       "  </tbody>\n",
       "</table>\n",
       "</div>"
      ],
      "text/plain": [
       "                                                    Pre-Diagnosis: Mean Prevalence Difference (%)  \\\n",
       "OTHER ANALGESICS AND ANTIPYRETICS                                                       10.647111   \n",
       "OPIOIDS                                                                                  3.832236   \n",
       "ANTIINFLAMMATORY AND ANTIRHEUMATIC PRODUCTS, NO...                                       2.219864   \n",
       "COUGH SUPPRESSANTS, EXCL. COMBINATIONS WITH EXP...                                       8.589266   \n",
       "ANTIEMETICS AND ANTINAUSEANTS                                                            9.366546   \n",
       "\n",
       "                                                    Pre-Diagnosis: Standard Error (%)  \\\n",
       "OTHER ANALGESICS AND ANTIPYRETICS                                            0.898424   \n",
       "OPIOIDS                                                                      0.641791   \n",
       "ANTIINFLAMMATORY AND ANTIRHEUMATIC PRODUCTS, NO...                           0.658594   \n",
       "COUGH SUPPRESSANTS, EXCL. COMBINATIONS WITH EXP...                           0.649894   \n",
       "ANTIEMETICS AND ANTINAUSEANTS                                                0.889384   \n",
       "\n",
       "                                                    Pre-Diagnosis: p-value  \\\n",
       "OTHER ANALGESICS AND ANTIPYRETICS                             1.064687e-32   \n",
       "OPIOIDS                                                       1.177847e-09   \n",
       "ANTIINFLAMMATORY AND ANTIRHEUMATIC PRODUCTS, NO...            3.750102e-04   \n",
       "COUGH SUPPRESSANTS, EXCL. COMBINATIONS WITH EXP...            3.527165e-40   \n",
       "ANTIEMETICS AND ANTINAUSEANTS                                 3.092240e-26   \n",
       "\n",
       "                                                    Post-Diagnosis: Mean Prevalence Difference (%)  \\\n",
       "OTHER ANALGESICS AND ANTIPYRETICS                                                         5.482770   \n",
       "OPIOIDS                                                                                   2.730506   \n",
       "ANTIINFLAMMATORY AND ANTIRHEUMATIC PRODUCTS, NO...                                        0.907683   \n",
       "COUGH SUPPRESSANTS, EXCL. COMBINATIONS WITH EXP...                                        4.577783   \n",
       "ANTIEMETICS AND ANTINAUSEANTS                                                             6.543276   \n",
       "\n",
       "                                                    Post-Diagnosis: Standard Error (%)  \\\n",
       "OTHER ANALGESICS AND ANTIPYRETICS                                             0.926171   \n",
       "OPIOIDS                                                                       0.668120   \n",
       "ANTIINFLAMMATORY AND ANTIRHEUMATIC PRODUCTS, NO...                            0.760286   \n",
       "COUGH SUPPRESSANTS, EXCL. COMBINATIONS WITH EXP...                            0.604771   \n",
       "ANTIEMETICS AND ANTINAUSEANTS                                                 0.876276   \n",
       "\n",
       "                                                    Post-Diagnosis: p-value  \n",
       "OTHER ANALGESICS AND ANTIPYRETICS                              1.611432e-09  \n",
       "OPIOIDS                                                        2.186331e-05  \n",
       "ANTIINFLAMMATORY AND ANTIRHEUMATIC PRODUCTS, NO...             1.162644e-01  \n",
       "COUGH SUPPRESSANTS, EXCL. COMBINATIONS WITH EXP...             1.874006e-14  \n",
       "ANTIEMETICS AND ANTINAUSEANTS                                  4.097909e-14  "
      ]
     },
     "execution_count": 23,
     "metadata": {},
     "output_type": "execute_result"
    }
   ],
   "source": [
    "diff_df = prev_prior[['Mean_Diff_Prior','SE_Prior', 'p_val_prior']]\n",
    "diff_df = diff_df.merge(prev_post[['Mean_Diff_Post', 'SE_Post', 'p_val_post']], how='inner', left_index=True, right_index=True)\n",
    "diff_df.loc[:,['Mean_Diff_Prior','SE_Prior','Mean_Diff_Post','SE_Post']] *= 100\n",
    "diff_df.columns = ['Pre-Diagnosis: Mean Prevalence Difference (%)',\n",
    "                   'Pre-Diagnosis: Standard Error (%)', 'Pre-Diagnosis: p-value',\n",
    "                  'Post-Diagnosis: Mean Prevalence Difference (%)',\n",
    "                   'Post-Diagnosis: Standard Error (%)', 'Post-Diagnosis: p-value']\n",
    "diff_df.to_csv('diff_df.csv')\n",
    "diff_df.head()"
   ]
  },
  {
   "cell_type": "markdown",
   "metadata": {},
   "source": [
    "# TABLE 4: Prescription prevalence differences for drug classes specific to endometriosis treatment\n",
    "In this table, we list overall prevalence disparities for the endometriosis cohort and the comparison cohort. Due to the span of the comparison cohort, we only consider drugs classes referenced in the ESHRE clinical guidelines"
   ]
  },
  {
   "cell_type": "code",
   "execution_count": 18,
   "metadata": {},
   "outputs": [],
   "source": [
    "cc_list_drugs = ['OTHER ANALGESICS AND ANTIPYRETICS', 'OPIOIDS','HORMONES AND RELATED AGENTS',\n",
    "                 'HORMONAL CONTRACEPTIVES FOR SYSTEMIC USE', 'PROGESTOGENS', 'ESTROGENS']\n",
    "\n",
    "atc_prev_cc = pd.read_csv('atc_prev_endo_cc.csv').set_index('Unnamed: 0')\n",
    "atc_prev_cc['Z_score'] = atc_prev_cc['Mean_Diff_Overall']/atc_prev_cc['SE_Overall']\n",
    "atc_prev_cc['p-val'] = (stats.norm.sf(np.abs(atc_prev_cc['Z_score'])))"
   ]
  },
  {
   "cell_type": "code",
   "execution_count": 19,
   "metadata": {},
   "outputs": [
    {
     "data": {
      "text/html": [
       "<div>\n",
       "<style scoped>\n",
       "    .dataframe tbody tr th:only-of-type {\n",
       "        vertical-align: middle;\n",
       "    }\n",
       "\n",
       "    .dataframe tbody tr th {\n",
       "        vertical-align: top;\n",
       "    }\n",
       "\n",
       "    .dataframe thead th {\n",
       "        text-align: right;\n",
       "    }\n",
       "</style>\n",
       "<table border=\"1\" class=\"dataframe\">\n",
       "  <thead>\n",
       "    <tr style=\"text-align: right;\">\n",
       "      <th></th>\n",
       "      <th>Comparison Cohort: Mean Prevalence Difference (%)</th>\n",
       "      <th>Comparison Cohort: Standard Error (%)</th>\n",
       "      <th>Comparison Cohort: p-value</th>\n",
       "      <th>Endo Cohort: Mean Prevalence Difference (%)</th>\n",
       "      <th>Endo Cohort: Standard Error (%)</th>\n",
       "      <th>Endo Cohort: p-value</th>\n",
       "    </tr>\n",
       "  </thead>\n",
       "  <tbody>\n",
       "    <tr>\n",
       "      <th>OTHER ANALGESICS AND ANTIPYRETICS</th>\n",
       "      <td>-7.472038</td>\n",
       "      <td>0.057092</td>\n",
       "      <td>0.000000e+00</td>\n",
       "      <td>0.063556</td>\n",
       "      <td>0.007432</td>\n",
       "      <td>6.092425e-18</td>\n",
       "    </tr>\n",
       "    <tr>\n",
       "      <th>OPIOIDS</th>\n",
       "      <td>-4.933238</td>\n",
       "      <td>0.058172</td>\n",
       "      <td>0.000000e+00</td>\n",
       "      <td>0.010006</td>\n",
       "      <td>0.003379</td>\n",
       "      <td>1.530394e-03</td>\n",
       "    </tr>\n",
       "    <tr>\n",
       "      <th>HORMONES AND RELATED AGENTS</th>\n",
       "      <td>8.922818</td>\n",
       "      <td>0.048657</td>\n",
       "      <td>0.000000e+00</td>\n",
       "      <td>-0.071122</td>\n",
       "      <td>0.009398</td>\n",
       "      <td>1.903955e-14</td>\n",
       "    </tr>\n",
       "    <tr>\n",
       "      <th>HORMONAL CONTRACEPTIVES FOR SYSTEMIC USE</th>\n",
       "      <td>1.980721</td>\n",
       "      <td>0.058201</td>\n",
       "      <td>3.714238e-254</td>\n",
       "      <td>0.032612</td>\n",
       "      <td>0.008894</td>\n",
       "      <td>1.228274e-04</td>\n",
       "    </tr>\n",
       "    <tr>\n",
       "      <th>PROGESTOGENS</th>\n",
       "      <td>7.874307</td>\n",
       "      <td>0.051769</td>\n",
       "      <td>0.000000e+00</td>\n",
       "      <td>-0.040914</td>\n",
       "      <td>0.009345</td>\n",
       "      <td>5.987418e-06</td>\n",
       "    </tr>\n",
       "    <tr>\n",
       "      <th>ESTROGENS</th>\n",
       "      <td>-1.829559</td>\n",
       "      <td>0.024257</td>\n",
       "      <td>0.000000e+00</td>\n",
       "      <td>0.102352</td>\n",
       "      <td>0.007628</td>\n",
       "      <td>2.365233e-41</td>\n",
       "    </tr>\n",
       "  </tbody>\n",
       "</table>\n",
       "</div>"
      ],
      "text/plain": [
       "                                          Comparison Cohort: Mean Prevalence Difference (%)  \\\n",
       "OTHER ANALGESICS AND ANTIPYRETICS                                                 -7.472038   \n",
       "OPIOIDS                                                                           -4.933238   \n",
       "HORMONES AND RELATED AGENTS                                                        8.922818   \n",
       "HORMONAL CONTRACEPTIVES FOR SYSTEMIC USE                                           1.980721   \n",
       "PROGESTOGENS                                                                       7.874307   \n",
       "ESTROGENS                                                                         -1.829559   \n",
       "\n",
       "                                          Comparison Cohort: Standard Error (%)  \\\n",
       "OTHER ANALGESICS AND ANTIPYRETICS                                      0.057092   \n",
       "OPIOIDS                                                                0.058172   \n",
       "HORMONES AND RELATED AGENTS                                            0.048657   \n",
       "HORMONAL CONTRACEPTIVES FOR SYSTEMIC USE                               0.058201   \n",
       "PROGESTOGENS                                                           0.051769   \n",
       "ESTROGENS                                                              0.024257   \n",
       "\n",
       "                                          Comparison Cohort: p-value  \\\n",
       "OTHER ANALGESICS AND ANTIPYRETICS                       0.000000e+00   \n",
       "OPIOIDS                                                 0.000000e+00   \n",
       "HORMONES AND RELATED AGENTS                             0.000000e+00   \n",
       "HORMONAL CONTRACEPTIVES FOR SYSTEMIC USE               3.714238e-254   \n",
       "PROGESTOGENS                                            0.000000e+00   \n",
       "ESTROGENS                                               0.000000e+00   \n",
       "\n",
       "                                          Endo Cohort: Mean Prevalence Difference (%)  \\\n",
       "OTHER ANALGESICS AND ANTIPYRETICS                                            0.063556   \n",
       "OPIOIDS                                                                      0.010006   \n",
       "HORMONES AND RELATED AGENTS                                                 -0.071122   \n",
       "HORMONAL CONTRACEPTIVES FOR SYSTEMIC USE                                     0.032612   \n",
       "PROGESTOGENS                                                                -0.040914   \n",
       "ESTROGENS                                                                    0.102352   \n",
       "\n",
       "                                          Endo Cohort: Standard Error (%)  \\\n",
       "OTHER ANALGESICS AND ANTIPYRETICS                                0.007432   \n",
       "OPIOIDS                                                          0.003379   \n",
       "HORMONES AND RELATED AGENTS                                      0.009398   \n",
       "HORMONAL CONTRACEPTIVES FOR SYSTEMIC USE                         0.008894   \n",
       "PROGESTOGENS                                                     0.009345   \n",
       "ESTROGENS                                                        0.007628   \n",
       "\n",
       "                                          Endo Cohort: p-value  \n",
       "OTHER ANALGESICS AND ANTIPYRETICS                 6.092425e-18  \n",
       "OPIOIDS                                           1.530394e-03  \n",
       "HORMONES AND RELATED AGENTS                       1.903955e-14  \n",
       "HORMONAL CONTRACEPTIVES FOR SYSTEMIC USE          1.228274e-04  \n",
       "PROGESTOGENS                                      5.987418e-06  \n",
       "ESTROGENS                                         2.365233e-41  "
      ]
     },
     "execution_count": 19,
     "metadata": {},
     "output_type": "execute_result"
    }
   ],
   "source": [
    "table3 = atc_prev_cc.loc[cc_list_drugs][['Mean_Diff_Overall','SE_Overall','p-val']]\n",
    "table3[['Mean_Diff_Overall','SE_Overall']]*=100\n",
    "table3.columns = ['Comparison Cohort: Mean Prevalence Difference (%)',\n",
    "                   'Comparison Cohort: Standard Error (%)', 'Comparison Cohort: p-value']\n",
    "table3 = table3.merge(df_prev_atc_endo[['Mean_Diff_Overall','SE_Overall','p_val_overall']], how='inner', right_index=True, left_index=True)\n",
    "table3.rename({'Mean_Diff_Overall': 'Endo Cohort: Mean Prevalence Difference (%)',\n",
    "              'SE_Overall': 'Endo Cohort: Standard Error (%)',\n",
    "              'p_val_overall': 'Endo Cohort: p-value'}, axis=1, inplace=True)\n",
    "table3"
   ]
  },
  {
   "cell_type": "code",
   "execution_count": 20,
   "metadata": {},
   "outputs": [],
   "source": [
    "table3.to_csv('table3.csv')"
   ]
  },
  {
   "cell_type": "code",
   "execution_count": null,
   "metadata": {},
   "outputs": [],
   "source": []
  }
 ],
 "metadata": {
  "kernelspec": {
   "display_name": "Python 3",
   "language": "python",
   "name": "python3"
  },
  "language_info": {
   "codemirror_mode": {
    "name": "ipython",
    "version": 3
   },
   "file_extension": ".py",
   "mimetype": "text/x-python",
   "name": "python",
   "nbconvert_exporter": "python",
   "pygments_lexer": "ipython3",
   "version": "3.8.10"
  }
 },
 "nbformat": 4,
 "nbformat_minor": 4
}
